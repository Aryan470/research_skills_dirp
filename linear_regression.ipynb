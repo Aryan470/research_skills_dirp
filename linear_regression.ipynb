{
 "cells": [
  {
   "cell_type": "code",
   "execution_count": null,
   "id": "4828ca56",
   "metadata": {},
   "outputs": [],
   "source": [
    "import numpy as np\n",
    "import matplotlib.pyplot as plt"
   ]
  },
  {
   "cell_type": "markdown",
   "id": "1103d0ad",
   "metadata": {},
   "source": [
    "## Constant data\n"
   ]
  },
  {
   "cell_type": "code",
   "execution_count": null,
   "id": "7b8699dc",
   "metadata": {},
   "outputs": [],
   "source": [
    "# Generate some linear-ish data\n",
    "n_points = 100\n",
    "x = np.linspace(-1, 1, n_points)\n",
    "y = np.random.normal(0, .1, n_points)"
   ]
  },
  {
   "cell_type": "code",
   "execution_count": null,
   "id": "123ec00b",
   "metadata": {},
   "outputs": [],
   "source": [
    "plt.scatter(x, y)\n",
    "plt.ylim(-1, 1)\n",
    "plt.xlim(-1, 1)\n",
    "plt.show()\n",
    "\n",
    "rsq = np.corrcoef(x, y)\n",
    "print(rsq)"
   ]
  },
  {
   "cell_type": "markdown",
   "id": "36b7afc1",
   "metadata": {},
   "source": [
    "## Linear data"
   ]
  },
  {
   "cell_type": "code",
   "execution_count": null,
   "id": "a4012174",
   "metadata": {},
   "outputs": [],
   "source": [
    "x = np.linspace(-1, 1, n_points)\n",
    "y = 0.5 * x + -0.1 + np.random.normal(0, .1, n_points)\n",
    "\n",
    "m, b = np.polyfit(x, y, 1)\n",
    "plt.scatter(x, y)\n",
    "plt.plot(x, m * x + b, color='red')\n",
    "plt.ylim(-1, 1)\n",
    "plt.xlim(-1, 1)\n",
    "plt.show()"
   ]
  },
  {
   "cell_type": "markdown",
   "id": "355127a4",
   "metadata": {},
   "source": [
    "## Correlation coefficient"
   ]
  },
  {
   "cell_type": "code",
   "execution_count": null,
   "id": "11ad5900",
   "metadata": {},
   "outputs": [],
   "source": [
    "rsq = np.corrcoef(x, y)\n",
    "print(rsq)"
   ]
  },
  {
   "cell_type": "markdown",
   "id": "0d6ed4d6",
   "metadata": {},
   "source": [
    "## Quadratic data"
   ]
  },
  {
   "cell_type": "code",
   "execution_count": null,
   "id": "5e1cf465",
   "metadata": {},
   "outputs": [],
   "source": [
    "n_points = 1000\n",
    "x = np.linspace(-1, 1, n_points)\n",
    "y = x**2 + np.random.normal(0, .1, n_points)\n",
    "plt.scatter(x, y)\n",
    "plt.ylim(-1, 1)\n",
    "plt.xlim(-1, 1)\n",
    "plt.show()\n",
    "\n"
   ]
  }
 ],
 "metadata": {
  "kernelspec": {
   "display_name": "Python 3",
   "language": "python",
   "name": "python3"
  },
  "language_info": {
   "codemirror_mode": {
    "name": "ipython",
    "version": 3
   },
   "file_extension": ".py",
   "mimetype": "text/x-python",
   "name": "python",
   "nbconvert_exporter": "python",
   "pygments_lexer": "ipython3",
   "version": "3.10.5"
  }
 },
 "nbformat": 4,
 "nbformat_minor": 5
}
